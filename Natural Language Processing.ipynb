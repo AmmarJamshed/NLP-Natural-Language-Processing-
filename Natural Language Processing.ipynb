{
 "cells": [
  {
   "cell_type": "markdown",
   "id": "overall-april",
   "metadata": {},
   "source": [
    "# Practicing regular expressions: re.split() and re.findall()"
   ]
  },
  {
   "cell_type": "code",
   "execution_count": 1,
   "id": "bearing-danish",
   "metadata": {},
   "outputs": [
    {
     "name": "stdout",
     "output_type": "stream",
     "text": [
      "['The sharp fox jumped over the lazy dog']\n",
      "['The']\n",
      "['The', 'sharp', 'fox', 'jumped', 'over', 'the', 'lazy', 'dog']\n",
      "[]\n"
     ]
    }
   ],
   "source": [
    "import re\n",
    "my_string = 'The sharp fox jumped over the lazy dog'\n",
    "# Write a pattern to match sentence endings: sentence_endings\n",
    "sentence_endings = r\"[.?!]\"\n",
    "\n",
    "# Split my_string on sentence endings and print the result\n",
    "print(re.split(sentence_endings, my_string))\n",
    "\n",
    "# Find all capitalized words in my_string and print the result\n",
    "capitalized_words = r\"[A-Z]\\w+\"\n",
    "print(re.findall(capitalized_words, my_string))\n",
    "\n",
    "# Split my_string on spaces and print the result\n",
    "spaces = r\"\\s+\"\n",
    "print(re.split(spaces, my_string))\n",
    "\n",
    "# Find all digits in my_string and print the result\n",
    "digits = r\"\\d+\"\n",
    "print(re.findall(digits, my_string))"
   ]
  },
  {
   "cell_type": "markdown",
   "id": "lightweight-insight",
   "metadata": {},
   "source": [
    "# Introduction to tokenization"
   ]
  },
  {
   "cell_type": "code",
   "execution_count": 2,
   "id": "helpful-azerbaijan",
   "metadata": {},
   "outputs": [
    {
     "data": {
      "text/plain": [
       "['Hello', 'bro', '!']"
      ]
     },
     "execution_count": 2,
     "metadata": {},
     "output_type": "execute_result"
    }
   ],
   "source": [
    "# nltk library \n",
    "from nltk.tokenize import word_tokenize\n",
    "word_tokenize('Hello bro!')"
   ]
  },
  {
   "cell_type": "markdown",
   "id": "oriented-development",
   "metadata": {},
   "source": [
    "# Regex Practice"
   ]
  },
  {
   "cell_type": "code",
   "execution_count": 3,
   "id": "progressive-legislature",
   "metadata": {},
   "outputs": [
    {
     "data": {
      "text/plain": [
       "<re.Match object; span=(0, 3), match='abc'>"
      ]
     },
     "execution_count": 3,
     "metadata": {},
     "output_type": "execute_result"
    }
   ],
   "source": [
    "re.match('abc', 'abcde')"
   ]
  },
  {
   "cell_type": "code",
   "execution_count": 4,
   "id": "bound-narrow",
   "metadata": {},
   "outputs": [
    {
     "data": {
      "text/plain": [
       "<re.Match object; span=(0, 3), match='abc'>"
      ]
     },
     "execution_count": 4,
     "metadata": {},
     "output_type": "execute_result"
    }
   ],
   "source": [
    "re.search('abc', 'abcde')"
   ]
  },
  {
   "cell_type": "code",
   "execution_count": 5,
   "id": "coupled-acoustic",
   "metadata": {},
   "outputs": [
    {
     "data": {
      "text/plain": [
       "<re.Match object; span=(2, 4), match='cd'>"
      ]
     },
     "execution_count": 5,
     "metadata": {},
     "output_type": "execute_result"
    }
   ],
   "source": [
    "re.match('cd', 'abcde')\n",
    "re.search('cd', 'abcde')"
   ]
  },
  {
   "cell_type": "code",
   "execution_count": 6,
   "id": "consolidated-aerospace",
   "metadata": {},
   "outputs": [],
   "source": [
    "# Search for the first occurrence of \"coconuts\" in scene_one: match\n",
    "##match = re.search(\"coconuts\", scene_one)\n",
    "\n",
    "# Print the start and end indexes of match\n",
    "##print(match.start(), match.end())"
   ]
  },
  {
   "cell_type": "code",
   "execution_count": 7,
   "id": "sized-electricity",
   "metadata": {},
   "outputs": [],
   "source": [
    "# Write a regular expression to search for anything in square brackets: pattern1\n",
    "##pattern1 = r\"\\[.*\\]\"\n",
    "\n",
    "# Use re.search to find the first text in square brackets\n",
    "##print(re.search(pattern1, scene_one))"
   ]
  },
  {
   "cell_type": "code",
   "execution_count": 8,
   "id": "every-johns",
   "metadata": {},
   "outputs": [],
   "source": [
    "# Import necessary modules\n",
    "from nltk.tokenize import sent_tokenize\n",
    "from nltk.tokenize import word_tokenize\n",
    "\n",
    "# Split scene_one into sentences: sentences\n",
    "##sentences = sent_tokenize(scene_one)\n",
    "\n",
    "# Use word_tokenize to tokenize the fourth sentence: tokenized_sent\n",
    "##tokenized_sent = word_tokenize(sentences)\n",
    "\n",
    "# Make a set of unique tokens in the entire scene: unique_tokens\n",
    "##unique_tokens = set(word_tokenize(scene_one))\n",
    "\n",
    "# Print the unique tokens result\n",
    "##print(unique_tokens)"
   ]
  },
  {
   "cell_type": "code",
   "execution_count": 9,
   "id": "intellectual-hunger",
   "metadata": {},
   "outputs": [],
   "source": [
    "# Find the script notation at the beginning of the fourth sentence and print it\n",
    "##pattern2 = r\"[\\w\\s]+:\"\n",
    "##print(re.match(pattern2, sentences[3]))"
   ]
  },
  {
   "cell_type": "code",
   "execution_count": 10,
   "id": "likely-democracy",
   "metadata": {},
   "outputs": [
    {
     "data": {
      "text/plain": [
       "['He', 'has', '11', 'cats']"
      ]
     },
     "execution_count": 10,
     "metadata": {},
     "output_type": "execute_result"
    }
   ],
   "source": [
    "import re\n",
    "match_digits_and_words = ('(\\d+|\\w+)')\n",
    "re.findall(match_digits_and_words, 'He has 11 cats')"
   ]
  },
  {
   "cell_type": "markdown",
   "id": "parliamentary-gossip",
   "metadata": {},
   "source": [
    "# Regex Ranges and Groups"
   ]
  },
  {
   "cell_type": "markdown",
   "id": "wired-rachel",
   "metadata": {},
   "source": [
    "# [A-Za-z]+ -> 'ABCDEFghijk'(example)\n",
    "# [0-9] -> 9 (example)\n",
    "# [A-Za-z\\-\\.]+ -> 'My.Website.com' (example)\n",
    "# (\\s+|) -> ',' (example)"
   ]
  },
  {
   "cell_type": "markdown",
   "id": "horizontal-insight",
   "metadata": {},
   "source": [
    "# Advanced Tokenization"
   ]
  },
  {
   "cell_type": "code",
   "execution_count": 11,
   "id": "substantial-stick",
   "metadata": {},
   "outputs": [],
   "source": [
    "# # Import the necessary modules\n",
    "from nltk.tokenize import regexp_tokenize\n",
    "from nltk.tokenize import TweetTokenizer\n",
    "# Define a regex pattern to find hashtags: pattern1\n",
    "##pattern1 = r\"#\\w+\"\n",
    "# Use the pattern on the first tweet in the tweets list\n",
    "##hashtags = regexp_tokenize(tweets[0], pattern1)\n",
    "##print(hashtags)"
   ]
  },
  {
   "cell_type": "code",
   "execution_count": 12,
   "id": "helpful-football",
   "metadata": {},
   "outputs": [],
   "source": [
    "# Import the necessary modules\n",
    "from nltk.tokenize import regexp_tokenize\n",
    "from nltk.tokenize import TweetTokenizer\n",
    "# Write a pattern that matches both mentions (@) and hashtags\n",
    "## pattern2 = r\"([@#]\\w+)\"\n",
    "# Use the pattern on the last tweet in the tweets list\n",
    "##mentions_hashtags = regexp_tokenize(tweets[-1], pattern2)\n",
    "##print(mentions_hashtags)"
   ]
  },
  {
   "cell_type": "code",
   "execution_count": 13,
   "id": "rising-penalty",
   "metadata": {},
   "outputs": [],
   "source": [
    "from nltk.tokenize import regexp_tokenize\n",
    "from nltk.tokenize import TweetTokenizer\n",
    "# Use the TweetTokenizer to tokenize all tweets into one list\n",
    "##tknzr = TweetTokenizer()\n",
    "##all_tokens = [tknzr.tokenize(t) for t in tweets]\n",
    "##print(all_tokens)"
   ]
  },
  {
   "cell_type": "markdown",
   "id": "curious-passenger",
   "metadata": {},
   "source": [
    "# Non-ascii tokenization"
   ]
  },
  {
   "cell_type": "code",
   "execution_count": 14,
   "id": "cardiac-rapid",
   "metadata": {},
   "outputs": [],
   "source": [
    "# Tokenize and print all words in german_text\n",
    "from nltk.tokenize import regexp_tokenize, word_tokenize\n",
    "##all_words = word_tokenize(german_text)\n",
    "##print(all_words)\n",
    "\n",
    "# Tokenize and print only capital words\n",
    "##capital_words = r\"[A-ZÜ]\\w+\"\n",
    "##print(regexp_tokenize(german_text, capital_words))\n",
    "\n",
    "# Tokenize and print only emoji\n",
    "##emoji = \"['\\U0001F300-\\U0001F5FF'|'\\U0001F600-\\U0001F64F'|'\\U0001F680-\\U0001F6FF'|'\\u2600-\\u26FF\\u2700-\\u27BF']\"\n",
    "##print(regexp_tokenize(german_text, emoji))"
   ]
  },
  {
   "cell_type": "markdown",
   "id": "associate-sunset",
   "metadata": {},
   "source": [
    "# Charting word length with NLTK\n",
    "# Combining NLP data extraction with plotting"
   ]
  },
  {
   "cell_type": "code",
   "execution_count": 15,
   "id": "amino-accordance",
   "metadata": {},
   "outputs": [
    {
     "data": {
      "text/plain": [
       "(array([1., 0., 0., 0., 0., 2., 0., 0., 0., 1.]),\n",
       " array([2. , 2.4, 2.8, 3.2, 3.6, 4. , 4.4, 4.8, 5.2, 5.6, 6. ]),\n",
       " <BarContainer object of 10 artists>)"
      ]
     },
     "execution_count": 15,
     "metadata": {},
     "output_type": "execute_result"
    },
    {
     "data": {
      "image/png": "[encoded data removed]",
      "text/plain": [
       "<Figure size 432x288 with 1 Axes>"
      ]
     },
     "metadata": {
      "needs_background": "light"
     },
     "output_type": "display_data"
    }
   ],
   "source": [
    "from matplotlib import pyplot as plt\n",
    "from nltk.tokenize import word_tokenize\n",
    "words = word_tokenize('This is pretty cool')\n",
    "words_length = [len(w) for w in words]\n",
    "plt.hist(words_length)"
   ]
  },
  {
   "cell_type": "code",
   "execution_count": 16,
   "id": "finite-narrative",
   "metadata": {},
   "outputs": [],
   "source": [
    "# Split the script into lines: lines\n",
    "##lines = holy_grail.split('\\n')\n",
    "\n",
    "# Replace all script lines for speaker\n",
    "##pattern = \"[A-Z]{2,}(\\s)?(#\\d)?([A-Z]{2,})?:\"\n",
    "##lines = [re.sub(pattern, '', l) for l in lines]\n",
    "\n",
    "# Tokenize each line: tokenized_lines\n",
    "##tokenized_lines = [regexp_tokenize(s, \"\\w+\") for s in lines]\n",
    "\n",
    "# Make a frequency list of lengths: line_num_words\n",
    "##line_num_words = [len(t_line) for t_line in tokenized_lines]\n",
    "\n",
    "# Plot a histogram of the line lengths\n",
    "##plt.hist(line_num_words)\n",
    "\n",
    "# Show the plot\n",
    "##plt.show()"
   ]
  },
  {
   "cell_type": "markdown",
   "id": "cutting-spectrum",
   "metadata": {},
   "source": [
    "# Bag of Words in Python"
   ]
  },
  {
   "cell_type": "code",
   "execution_count": 17,
   "id": "functioning-drink",
   "metadata": {},
   "outputs": [
    {
     "data": {
      "text/plain": [
       "Counter({'The': 3,\n",
       "         'cat': 3,\n",
       "         'is': 2,\n",
       "         'in': 1,\n",
       "         'the': 3,\n",
       "         'box': 3,\n",
       "         '..': 1,\n",
       "         'Likes': 1,\n",
       "         '.': 2,\n",
       "         'over': 1})"
      ]
     },
     "execution_count": 17,
     "metadata": {},
     "output_type": "execute_result"
    }
   ],
   "source": [
    "from nltk.tokenize import word_tokenize\n",
    "from collections import Counter\n",
    "Counter(word_tokenize(\"\"\"The cat is in the box.. The cat Likes the box. The box is over the cat.\"\"\"))"
   ]
  },
  {
   "cell_type": "code",
   "execution_count": 18,
   "id": "attached-dividend",
   "metadata": {},
   "outputs": [
    {
     "data": {
      "text/plain": [
       "[('The', 3), ('cat', 3)]"
      ]
     },
     "execution_count": 18,
     "metadata": {},
     "output_type": "execute_result"
    }
   ],
   "source": [
    "counter = Counter(word_tokenize(\"\"\"The cat is in the box.. The cat Likes the box. The box is over the cat.\"\"\"))\n",
    "counter.most_common(2)"
   ]
  },
  {
   "cell_type": "markdown",
   "id": "secret-peeing",
   "metadata": {},
   "source": [
    "# Tokenize the Article "
   ]
  },
  {
   "cell_type": "code",
   "execution_count": 19,
   "id": "italic-cache",
   "metadata": {},
   "outputs": [],
   "source": [
    "# Import Counter\n",
    "from collections import Counter\n",
    "\n",
    "# Tokenize the article: tokens\n",
    "##tokens = word_tokenize(article)\n",
    "\n",
    "# Convert the tokens into lowercase: lower_tokens\n",
    "##lower_tokens = [t.lower() for t in tokens]\n",
    "\n",
    "# Create a Counter with the lowercase tokens: bow_simple\n",
    "##bow_simple = Counter(lower_tokens)\n",
    "\n",
    "# Print the 10 most common tokens\n",
    "##print(bow_simple.most_common(10))"
   ]
  },
  {
   "cell_type": "markdown",
   "id": "thrown-member",
   "metadata": {},
   "source": [
    "# Text preprocessing with python"
   ]
  },
  {
   "cell_type": "code",
   "execution_count": 20,
   "id": "descending-lincoln",
   "metadata": {},
   "outputs": [
    {
     "name": "stderr",
     "output_type": "stream",
     "text": [
      "[nltk_data] Downloading package stopwords to\n",
      "[nltk_data]     C:\\Users\\muham\\AppData\\Roaming\\nltk_data...\n",
      "[nltk_data]   Package stopwords is already up-to-date!\n"
     ]
    },
    {
     "data": {
      "text/plain": [
       "True"
      ]
     },
     "execution_count": 20,
     "metadata": {},
     "output_type": "execute_result"
    }
   ],
   "source": [
    "import nltk\n",
    "nltk.download('stopwords')"
   ]
  },
  {
   "cell_type": "code",
   "execution_count": 21,
   "id": "romance-warrant",
   "metadata": {},
   "outputs": [
    {
     "data": {
      "text/plain": [
       "[('cat', 3), ('box', 3)]"
      ]
     },
     "execution_count": 21,
     "metadata": {},
     "output_type": "execute_result"
    }
   ],
   "source": [
    "\n",
    "from nltk.corpus import stopwords \n",
    "text = \"\"\"The cat is in the box.. The cat Likes the box. The box is over the cat.\"\"\"\n",
    "# Convert the tokens into lowercase: lower_tokens\n",
    "tokens = [w for w in word_tokenize(text.lower())\n",
    "                          if w.isalpha()]\n",
    "\n",
    "no_stops = [t for t in tokens\n",
    "                       if t not in stopwords.words('english')]\n",
    "\n",
    "Counter(no_stops).most_common(2)"
   ]
  },
  {
   "cell_type": "code",
   "execution_count": 22,
   "id": "useful-breach",
   "metadata": {},
   "outputs": [
    {
     "name": "stderr",
     "output_type": "stream",
     "text": [
      "[nltk_data] Downloading package wordnet to\n",
      "[nltk_data]     C:\\Users\\muham\\AppData\\Roaming\\nltk_data...\n",
      "[nltk_data]   Package wordnet is already up-to-date!\n"
     ]
    },
    {
     "data": {
      "text/plain": [
       "True"
      ]
     },
     "execution_count": 22,
     "metadata": {},
     "output_type": "execute_result"
    }
   ],
   "source": [
    "import nltk\n",
    "nltk.download('wordnet')"
   ]
  },
  {
   "cell_type": "code",
   "execution_count": 23,
   "id": "grand-republic",
   "metadata": {},
   "outputs": [
    {
     "name": "stdout",
     "output_type": "stream",
     "text": [
      "[('the', 6), ('is', 2), ('in', 1), ('over', 1)]\n"
     ]
    }
   ],
   "source": [
    "# Import WordNetLemmatizer\n",
    "from nltk.stem import WordNetLemmatizer\n",
    "\n",
    "# Retain alphabetic words: alpha_only\n",
    "alpha_only = [t for t in tokens if t.isalpha()]\n",
    "\n",
    "# Remove all stop words: no_stops\n",
    "no_stops = [t for t in alpha_only if t not in no_stops]\n",
    "\n",
    "# Instantiate the WordNetLemmatizer\n",
    "wordnet_lemmatizer = WordNetLemmatizer()\n",
    "\n",
    "# Lemmatize all tokens into a new list: lemmatized\n",
    "lemmatized = [wordnet_lemmatizer.lemmatize(t) for t in no_stops]\n",
    "\n",
    "# Create the bag-of-words: bow\n",
    "bow = Counter(lemmatized)\n",
    "\n",
    "# Print the 10 most common tokens\n",
    "print(bow.most_common(10))"
   ]
  },
  {
   "cell_type": "markdown",
   "id": "crazy-experience",
   "metadata": {},
   "source": [
    "# Genism - Topic modelling for humans"
   ]
  },
  {
   "cell_type": "code",
   "execution_count": 24,
   "id": "worldwide-blake",
   "metadata": {},
   "outputs": [
    {
     "name": "stderr",
     "output_type": "stream",
     "text": [
      "C:\\Users\\muham\\anaconda3\\lib\\site-packages\\gensim\\similarities\\__init__.py:15: UserWarning: The gensim.similarities.levenshtein submodule is disabled, because the optional Levenshtein package <https://pypi.org/project/python-Levenshtein/> is unavailable. Install Levenhstein (e.g. `pip install python-Levenshtein`) to suppress this warning.\n",
      "  warnings.warn(msg)\n"
     ]
    }
   ],
   "source": [
    "from gensim.corpora.dictionary import Dictionary \n",
    "from nltk.tokenize import word_tokenize\n",
    "my_documents = ['I love this movie', ' Shes a killer', ' We can rule the world']\n"
   ]
  },
  {
   "cell_type": "code",
   "execution_count": 25,
   "id": "regulation-bread",
   "metadata": {},
   "outputs": [
    {
     "data": {
      "text/plain": [
       "{'i': 0,\n",
       " 'love': 1,\n",
       " 'movie': 2,\n",
       " 'this': 3,\n",
       " 'a': 4,\n",
       " 'killer': 5,\n",
       " 'shes': 6,\n",
       " 'can': 7,\n",
       " 'rule': 8,\n",
       " 'the': 9,\n",
       " 'we': 10,\n",
       " 'world': 11}"
      ]
     },
     "execution_count": 25,
     "metadata": {},
     "output_type": "execute_result"
    }
   ],
   "source": [
    "tokenized_docs = [word_tokenize(doc.lower()) for doc in my_documents]\n",
    "dictionary = Dictionary(tokenized_docs)\n",
    "dictionary.token2id"
   ]
  },
  {
   "cell_type": "code",
   "execution_count": 26,
   "id": "forbidden-egyptian",
   "metadata": {},
   "outputs": [
    {
     "data": {
      "text/plain": [
       "[[(0, 1), (1, 1), (2, 1), (3, 1)],\n",
       " [(4, 1), (5, 1), (6, 1)],\n",
       " [(7, 1), (8, 1), (9, 1), (10, 1), (11, 1)]]"
      ]
     },
     "execution_count": 26,
     "metadata": {},
     "output_type": "execute_result"
    }
   ],
   "source": [
    "corpus  =[dictionary.doc2bow(doc) for doc in tokenized_docs]\n",
    "corpus"
   ]
  },
  {
   "cell_type": "code",
   "execution_count": 27,
   "id": "helpful-culture",
   "metadata": {},
   "outputs": [],
   "source": [
    "# Import Dictionary\n",
    "from gensim.corpora.dictionary import Dictionary\n",
    "\n",
    "# Create a Dictionary from the articles: dictionary\n",
    "##dictionary = Dictionary(articles)\n",
    "\n",
    "# Select the id for \"computer\": computer_id\n",
    "##computer_id = dictionary.token2id.get(\"computer\")\n",
    "\n",
    "# Use computer_id with the dictionary to print the word\n",
    "##print(dictionary.get(computer_id))\n",
    "\n",
    "# Create a MmCorpus: corpus\n",
    "##corpus = [dictionary.doc2bow(article) for article in articles]\n",
    "\n",
    "# Print the first 10 word ids with their frequency counts from the fifth document\n",
    "##print(corpus[4][:10])\n"
   ]
  },
  {
   "cell_type": "code",
   "execution_count": 28,
   "id": "amino-carol",
   "metadata": {},
   "outputs": [
    {
     "name": "stdout",
     "output_type": "stream",
     "text": [
      "a 1\n",
      "killer 1\n",
      "shes 1\n"
     ]
    }
   ],
   "source": [
    "# Save the fifth document: doc\n",
    "doc = corpus[1]\n",
    "\n",
    "# Sort the doc for frequency: bow_doc\n",
    "bow_doc = sorted(doc, key=lambda w: w[1], reverse=True)\n",
    "\n",
    "# Print the top 5 words of the document alongside the count\n",
    "for word_id, word_count in bow_doc[:5]:\n",
    "    print(dictionary.get(word_id), word_count)\n",
    "    \n",
    "# Create the defaultdict: total_word_count\n",
    "##total_word_count = deafult_dict(int)\n",
    "##for word_id, word_count in itertools.chain.from_iterable(corpus):\n",
    "    ##total_word_count[word_id] += word_count"
   ]
  },
  {
   "cell_type": "markdown",
   "id": "cooked-collection",
   "metadata": {},
   "source": [
    "# Tf-idf with gensim"
   ]
  },
  {
   "cell_type": "code",
   "execution_count": 29,
   "id": "spread-alexander",
   "metadata": {},
   "outputs": [
    {
     "data": {
      "text/plain": [
       "[(4, 0.5773502691896258), (5, 0.5773502691896258), (6, 0.5773502691896258)]"
      ]
     },
     "execution_count": 29,
     "metadata": {},
     "output_type": "execute_result"
    }
   ],
   "source": [
    "from gensim.models.tfidfmodel import TfidfModel\n",
    "tfidf = TfidfModel(corpus)\n",
    "tfidf[corpus[1]]"
   ]
  },
  {
   "cell_type": "code",
   "execution_count": 30,
   "id": "disturbed-nature",
   "metadata": {},
   "outputs": [
    {
     "name": "stdout",
     "output_type": "stream",
     "text": [
      "[(4, 0.5773502691896258), (5, 0.5773502691896258), (6, 0.5773502691896258)]\n"
     ]
    }
   ],
   "source": [
    "# Create a new TfidfModel using the corpus: tfidf\n",
    "tfidf = TfidfModel(corpus)\n",
    "\n",
    "# Calculate the tfidf weights of doc: tfidf_weights\n",
    "tfidf_weights = tfidf[doc]\n",
    "\n",
    "# Print the first five weights\n",
    "print(tfidf_weights[:5])"
   ]
  },
  {
   "cell_type": "code",
   "execution_count": 31,
   "id": "moved-innocent",
   "metadata": {},
   "outputs": [
    {
     "name": "stdout",
     "output_type": "stream",
     "text": [
      "[(4, 0.5773502691896258), (5, 0.5773502691896258), (6, 0.5773502691896258)]\n",
      "a 0.5773502691896258\n",
      "killer 0.5773502691896258\n",
      "shes 0.5773502691896258\n"
     ]
    }
   ],
   "source": [
    "# Create a new TfidfModel using the corpus: tfidf\n",
    "tfidf = TfidfModel(corpus)\n",
    "\n",
    "# Calculate the tfidf weights of doc: tfidf_weights\n",
    "tfidf_weights = tfidf[doc]\n",
    "\n",
    "# Print the first five weights\n",
    "print(tfidf_weights[:5])\n",
    "\n",
    "# Sort the weights from highest to lowest: sorted_tfidf_weights\n",
    "sorted_tfidf_weights = sorted(tfidf_weights, key=lambda w: w[1], reverse=True)\n",
    "\n",
    "# Print the top 5 weighted words\n",
    "for term_id, weight in sorted_tfidf_weights[:5]:\n",
    "    print(dictionary.get(term_id), weight)"
   ]
  },
  {
   "cell_type": "markdown",
   "id": "chemical-visitor",
   "metadata": {},
   "source": [
    "# Named Entity Recognition"
   ]
  },
  {
   "cell_type": "code",
   "execution_count": 32,
   "id": "legitimate-meditation",
   "metadata": {},
   "outputs": [
    {
     "name": "stderr",
     "output_type": "stream",
     "text": [
      "[nltk_data] Downloading package averaged_perceptron_tagger to\n",
      "[nltk_data]     C:\\Users\\muham\\AppData\\Roaming\\nltk_data...\n",
      "[nltk_data]   Package averaged_perceptron_tagger is already up-to-\n",
      "[nltk_data]       date!\n"
     ]
    },
    {
     "data": {
      "text/plain": [
       "True"
      ]
     },
     "execution_count": 32,
     "metadata": {},
     "output_type": "execute_result"
    }
   ],
   "source": [
    "import nltk\n",
    "nltk.download('averaged_perceptron_tagger')"
   ]
  },
  {
   "cell_type": "code",
   "execution_count": 33,
   "id": "ecological-significance",
   "metadata": {},
   "outputs": [
    {
     "data": {
      "text/plain": [
       "[('The', 'DT'), ('cat', 'NN'), ('is', 'VBZ')]"
      ]
     },
     "execution_count": 33,
     "metadata": {},
     "output_type": "execute_result"
    }
   ],
   "source": [
    "import nltk\n",
    "sentence = \"\"\"The cat is in the box.. The cat Likes the box. The box is over the cat.\"\"\"\n",
    "tokenize_sent = nltk.word_tokenize(sentence)\n",
    "tagged_sent =nltk.pos_tag(tokenize_sent)\n",
    "tagged_sent[:3]"
   ]
  },
  {
   "cell_type": "code",
   "execution_count": 34,
   "id": "industrial-filename",
   "metadata": {},
   "outputs": [
    {
     "name": "stderr",
     "output_type": "stream",
     "text": [
      "[nltk_data] Downloading package maxent_ne_chunker to\n",
      "[nltk_data]     C:\\Users\\muham\\AppData\\Roaming\\nltk_data...\n",
      "[nltk_data]   Package maxent_ne_chunker is already up-to-date!\n"
     ]
    },
    {
     "data": {
      "text/plain": [
       "True"
      ]
     },
     "execution_count": 34,
     "metadata": {},
     "output_type": "execute_result"
    }
   ],
   "source": [
    "import nltk\n",
    "nltk.download('maxent_ne_chunker')"
   ]
  },
  {
   "cell_type": "code",
   "execution_count": 35,
   "id": "constant-quality",
   "metadata": {},
   "outputs": [
    {
     "name": "stderr",
     "output_type": "stream",
     "text": [
      "[nltk_data] Downloading package words to\n",
      "[nltk_data]     C:\\Users\\muham\\AppData\\Roaming\\nltk_data...\n",
      "[nltk_data]   Package words is already up-to-date!\n"
     ]
    },
    {
     "data": {
      "text/plain": [
       "True"
      ]
     },
     "execution_count": 35,
     "metadata": {},
     "output_type": "execute_result"
    }
   ],
   "source": [
    "import nltk\n",
    "nltk.download('words')"
   ]
  },
  {
   "cell_type": "code",
   "execution_count": 36,
   "id": "motivated-packet",
   "metadata": {},
   "outputs": [
    {
     "name": "stdout",
     "output_type": "stream",
     "text": [
      "(S\n",
      "  The/DT\n",
      "  cat/NN\n",
      "  is/VBZ\n",
      "  in/IN\n",
      "  the/DT\n",
      "  box/NN\n",
      "  ../VBZ\n",
      "  The/DT\n",
      "  cat/NN\n",
      "  Likes/VBZ\n",
      "  the/DT\n",
      "  box/NN\n",
      "  ./.\n",
      "  The/DT\n",
      "  box/NN\n",
      "  is/VBZ\n",
      "  over/IN\n",
      "  the/DT\n",
      "  cat/NN\n",
      "  ./.)\n"
     ]
    }
   ],
   "source": [
    "print(nltk.ne_chunk(tagged_sent))"
   ]
  },
  {
   "cell_type": "code",
   "execution_count": 38,
   "id": "abandoned-recall",
   "metadata": {},
   "outputs": [],
   "source": [
    "# Create the defaultdict: ner_categories\n",
    "## ner_categories = defaultdict(int)\n",
    "\n",
    "# Create the nested for loop\n",
    "##for sent in chunked_sentences:\n",
    "    ##for chunk in sent:\n",
    "        ##if hasattr(chunk, 'label'):\n",
    "            ##ner_categories[chunk.label()] += 1\n",
    "            \n",
    "# Create a list from the dictionary keys for the chart labels: labels\n",
    "##labels = list(ner_categories.keys())"
   ]
  },
  {
   "cell_type": "code",
   "execution_count": 39,
   "id": "smaller-photograph",
   "metadata": {},
   "outputs": [],
   "source": [
    "# Create the defaultdict: ner_categories\n",
    "##ner_categories = defaultdict(int)\n",
    "\n",
    "# Create the nested for loop\n",
    "##for sent in chunked_sentences:\n",
    "    ##for chunk in sent:\n",
    "        ##if hasattr(chunk, 'label'):\n",
    "            ##ner_categories[chunk.label()] += 1\n",
    "            \n",
    "# Create a list from the dictionary keys for the chart labels: labels\n",
    "##labels = list(ner_categories.keys())\n",
    "\n",
    "# Create a list of the values: values\n",
    "##values = [ner_categories.get(v) for v in labels]\n",
    "\n",
    "# Create the pie chart\n",
    "##plt.pie(values, labels=labels, autopct='%1.1f%%', startangle=140)\n",
    "\n",
    "# Display the chart\n",
    "##plt.show()"
   ]
  },
  {
   "cell_type": "markdown",
   "id": "rising-timing",
   "metadata": {},
   "source": [
    "# Introduction to SpaCy\n"
   ]
  },
  {
   "cell_type": "code",
   "execution_count": 40,
   "id": "cutting-america",
   "metadata": {},
   "outputs": [
    {
     "name": "stdout",
     "output_type": "stream",
     "text": [
      "Collecting spacyNote: you may need to restart the kernel to use updated packages.\n",
      "\n",
      "  Downloading spacy-3.0.6-cp38-cp38-win_amd64.whl (11.9 MB)\n",
      "Collecting catalogue<2.1.0,>=2.0.3\n",
      "  Downloading catalogue-2.0.3-py3-none-any.whl (16 kB)\n",
      "Collecting wasabi<1.1.0,>=0.8.1\n",
      "  Downloading wasabi-0.8.2-py3-none-any.whl (23 kB)\n",
      "Requirement already satisfied: jinja2 in c:\\users\\muham\\anaconda3\\lib\\site-packages (from spacy) (2.11.3)\n",
      "Requirement already satisfied: packaging>=20.0 in c:\\users\\muham\\anaconda3\\lib\\site-packages (from spacy) (20.9)\n",
      "Collecting spacy-legacy<3.1.0,>=3.0.4\n",
      "  Downloading spacy_legacy-3.0.5-py2.py3-none-any.whl (12 kB)\n",
      "Collecting pathy>=0.3.5\n",
      "  Downloading pathy-0.5.2-py3-none-any.whl (42 kB)\n",
      "Requirement already satisfied: numpy>=1.15.0 in c:\\users\\muham\\anaconda3\\lib\\site-packages (from spacy) (1.19.2)\n",
      "Collecting typer<0.4.0,>=0.3.0\n",
      "  Downloading typer-0.3.2-py3-none-any.whl (21 kB)\n",
      "Collecting blis<0.8.0,>=0.4.0\n",
      "  Downloading blis-0.7.4-cp38-cp38-win_amd64.whl (6.5 MB)\n",
      "Requirement already satisfied: tqdm<5.0.0,>=4.38.0 in c:\\users\\muham\\anaconda3\\lib\\site-packages (from spacy) (4.56.0)\n",
      "Collecting pydantic<1.8.0,>=1.7.1\n",
      "  Downloading pydantic-1.7.3-cp38-cp38-win_amd64.whl (1.8 MB)\n",
      "Requirement already satisfied: setuptools in c:\\users\\muham\\anaconda3\\lib\\site-packages (from spacy) (52.0.0.post20210125)\n",
      "Collecting preshed<3.1.0,>=3.0.2\n",
      "  Downloading preshed-3.0.5-cp38-cp38-win_amd64.whl (112 kB)\n",
      "Requirement already satisfied: requests<3.0.0,>=2.13.0 in c:\\users\\muham\\anaconda3\\lib\\site-packages (from spacy) (2.25.1)\n",
      "Collecting thinc<8.1.0,>=8.0.3\n",
      "  Downloading thinc-8.0.3-cp38-cp38-win_amd64.whl (1.0 MB)\n",
      "Collecting cymem<2.1.0,>=2.0.2\n",
      "  Downloading cymem-2.0.5-cp38-cp38-win_amd64.whl (36 kB)\n",
      "Collecting murmurhash<1.1.0,>=0.28.0\n",
      "  Downloading murmurhash-1.0.5-cp38-cp38-win_amd64.whl (21 kB)\n",
      "Collecting srsly<3.0.0,>=2.4.1\n",
      "  Downloading srsly-2.4.1-cp38-cp38-win_amd64.whl (451 kB)\n",
      "Requirement already satisfied: pyparsing>=2.0.2 in c:\\users\\muham\\anaconda3\\lib\\site-packages (from packaging>=20.0->spacy) (2.4.7)\n",
      "Collecting smart-open<4.0.0,>=2.2.0\n",
      "  Downloading smart_open-3.0.0.tar.gz (113 kB)\n",
      "Requirement already satisfied: idna<3,>=2.5 in c:\\users\\muham\\anaconda3\\lib\\site-packages (from requests<3.0.0,>=2.13.0->spacy) (2.10)\n",
      "Requirement already satisfied: certifi>=2017.4.17 in c:\\users\\muham\\anaconda3\\lib\\site-packages (from requests<3.0.0,>=2.13.0->spacy) (2020.12.5)\n",
      "Requirement already satisfied: urllib3<1.27,>=1.21.1 in c:\\users\\muham\\anaconda3\\lib\\site-packages (from requests<3.0.0,>=2.13.0->spacy) (1.26.3)\n",
      "Requirement already satisfied: chardet<5,>=3.0.2 in c:\\users\\muham\\anaconda3\\lib\\site-packages (from requests<3.0.0,>=2.13.0->spacy) (3.0.4)\n",
      "Requirement already satisfied: click<7.2.0,>=7.1.1 in c:\\users\\muham\\anaconda3\\lib\\site-packages (from typer<0.4.0,>=0.3.0->spacy) (7.1.2)\n",
      "Requirement already satisfied: MarkupSafe>=0.23 in c:\\users\\muham\\anaconda3\\lib\\site-packages (from jinja2->spacy) (1.1.1)\n",
      "Building wheels for collected packages: smart-open\n",
      "  Building wheel for smart-open (setup.py): started\n",
      "  Building wheel for smart-open (setup.py): finished with status 'done'\n",
      "  Created wheel for smart-open: filename=smart_open-3.0.0-py3-none-any.whl size=107097 sha256=9df1f5f01e5674a010a8fd29090586502751b4595757d8fc9038d32acaf4899c\n",
      "  Stored in directory: c:\\users\\muham\\appdata\\local\\pip\\cache\\wheels\\11\\73\\9a\\f91ac1f1816436b16423617c5be5db048697ff152a9c4346f2\n",
      "Successfully built smart-open\n",
      "Installing collected packages: murmurhash, cymem, catalogue, wasabi, typer, srsly, smart-open, pydantic, preshed, blis, thinc, spacy-legacy, pathy, spacy\n",
      "  Attempting uninstall: smart-open\n",
      "    Found existing installation: smart-open 5.0.0\n",
      "    Uninstalling smart-open-5.0.0:\n",
      "      Successfully uninstalled smart-open-5.0.0\n",
      "Successfully installed blis-0.7.4 catalogue-2.0.3 cymem-2.0.5 murmurhash-1.0.5 pathy-0.5.2 preshed-3.0.5 pydantic-1.7.3 smart-open-3.0.0 spacy-3.0.6 spacy-legacy-3.0.5 srsly-2.4.1 thinc-8.0.3 typer-0.3.2 wasabi-0.8.2\n"
     ]
    }
   ],
   "source": [
    "pip install spacy"
   ]
  },
  {
   "cell_type": "code",
   "execution_count": 53,
   "id": "billion-element",
   "metadata": {},
   "outputs": [
    {
     "ename": "AttributeError",
     "evalue": "'English' object has no attribute 'entity'",
     "output_type": "error",
     "traceback": [
      "\u001b[1;31m---------------------------------------------------------------------------\u001b[0m",
      "\u001b[1;31mAttributeError\u001b[0m                            Traceback (most recent call last)",
      "\u001b[1;32m<ipython-input-53-f32578c79246>\u001b[0m in \u001b[0;36m<module>\u001b[1;34m\u001b[0m\n\u001b[0;32m      1\u001b[0m \u001b[1;32mimport\u001b[0m \u001b[0mspacy\u001b[0m\u001b[1;33m\u001b[0m\u001b[1;33m\u001b[0m\u001b[0m\n\u001b[0;32m      2\u001b[0m \u001b[0mnlp\u001b[0m \u001b[1;33m=\u001b[0m \u001b[0mspacy\u001b[0m\u001b[1;33m.\u001b[0m\u001b[0mblank\u001b[0m\u001b[1;33m(\u001b[0m\u001b[1;34m\"en\"\u001b[0m\u001b[1;33m)\u001b[0m\u001b[1;33m\u001b[0m\u001b[1;33m\u001b[0m\u001b[0m\n\u001b[1;32m----> 3\u001b[1;33m \u001b[0mnlp\u001b[0m\u001b[1;33m.\u001b[0m\u001b[0mentity\u001b[0m\u001b[1;33m\u001b[0m\u001b[1;33m\u001b[0m\u001b[0m\n\u001b[0m",
      "\u001b[1;31mAttributeError\u001b[0m: 'English' object has no attribute 'entity'"
     ]
    }
   ],
   "source": [
    "import spacy\n",
    "nlp = spacy.blank(\"en\")\n",
    "nlp.entity"
   ]
  },
  {
   "cell_type": "code",
   "execution_count": 49,
   "id": "extended-munich",
   "metadata": {},
   "outputs": [],
   "source": [
    "# Spacy can be used to create an easy pipeline"
   ]
  },
  {
   "cell_type": "code",
   "execution_count": null,
   "id": "least-report",
   "metadata": {},
   "outputs": [],
   "source": [
    "doc = nlp"
   ]
  },
  {
   "cell_type": "code",
   "execution_count": 58,
   "id": "modern-villa",
   "metadata": {},
   "outputs": [],
   "source": [
    "# Import spacy\n",
    "import spacy\n",
    "\n",
    "# Instantiate the English model: nlp\n",
    "##nlp = spacy.load('en', tagger=False, parser=False, matcher=False)\n",
    "\n",
    "# Create a new document: doc\n",
    "##doc = nlp(article)\n",
    "\n",
    "# Print all of the found entities and their labels\n",
    "##for ent in doc.ents:\n",
    "    ##print(ent.label_, ent.text)"
   ]
  },
  {
   "cell_type": "markdown",
   "id": "selective-boutique",
   "metadata": {},
   "source": [
    "# Multilingual NER with polyglot"
   ]
  },
  {
   "cell_type": "code",
   "execution_count": 59,
   "id": "unavailable-apache",
   "metadata": {},
   "outputs": [],
   "source": [
    "# Create a new text object using Polyglot's Text class: txt\n",
    "##txt = Text(article)\n",
    "\n",
    "# Print each of the entities found\n",
    "##for ent in txt.entities:\n",
    "    ##print(ent)\n",
    "    \n",
    "# Print the type of ent\n",
    "##print(type(ent))\n"
   ]
  },
  {
   "cell_type": "code",
   "execution_count": 60,
   "id": "pharmaceutical-uncle",
   "metadata": {},
   "outputs": [],
   "source": [
    "# Create the list of tuples: entities\n",
    "##entities = [(ent.tag, ' '.join(ent)) for ent in txt.entities]\n",
    "\n",
    "# Print entities\n",
    "##print(entities)"
   ]
  },
  {
   "cell_type": "code",
   "execution_count": 61,
   "id": "rental-consolidation",
   "metadata": {},
   "outputs": [],
   "source": [
    "# Initialize the count variable: count\n",
    "##count = 0\n",
    "\n",
    "# Iterate over all the entities\n",
    "##for ent in txt.entities:\n",
    "    # Check whether the entity contains 'Márquez' or 'Gabo'\n",
    "    ##if \"Márquez\" in ent or \"Gabo\" in ent:\n",
    "        # Increment count\n",
    "        ##count += 1\n",
    "\n",
    "# Print count\n",
    "##print(count)\n",
    "\n",
    "# Calculate the percentage of entities that refer to \"Gabo\": percentage\n",
    "##percentage = count / len(txt.entities)\n",
    "##print(percentage)\n"
   ]
  },
  {
   "cell_type": "markdown",
   "id": "apparent-counter",
   "metadata": {},
   "source": [
    "# Building word count vectors with scikit-learn"
   ]
  },
  {
   "cell_type": "code",
   "execution_count": 62,
   "id": "offensive-slovenia",
   "metadata": {},
   "outputs": [],
   "source": [
    "import pandas as pd\n",
    "from sklearn.model_selection import train_test_split\n",
    "from sklearn.feature_extraction.text import CountVectorizer\n",
    "## df = file path\n",
    "## tx, tex, ty, tey = train_test_split(df['plot'], y, test_size=0.33, random_state=55)\n",
    "## count_vectorizer = CountVectorizer(stop_words='english')\n",
    "## count_train = count_vectorizer.fit_transform(tx.values)\n",
    "## count_test = count_vectorizer.transform(tex.values)\n",
    "# Print the first 10 features of the count_vectorizer\n",
    "##print(count_vectorizer.get_feature_names()[:10])"
   ]
  },
  {
   "cell_type": "markdown",
   "id": "mature-reynolds",
   "metadata": {},
   "source": [
    "# TfidfVectorizer for text classification"
   ]
  },
  {
   "cell_type": "code",
   "execution_count": 63,
   "id": "instructional-covering",
   "metadata": {},
   "outputs": [],
   "source": [
    "# Import TfidfVectorizer\n",
    "##from sklearn.feature_extraction.text import TfidfVectorizer\n",
    "\n",
    "# Initialize a TfidfVectorizer object: tfidf_vectorizer\n",
    "##tfidf_vectorizer = TfidfVectorizer(stop_words='english', max_df=0.7)\n",
    "\n",
    "# Transform the training data: tfidf_train \n",
    "##tfidf_train = tfidf_vectorizer.fit_transform(X_train)\n",
    "\n",
    "# Transform the test data: tfidf_test \n",
    "##tfidf_test = tfidf_vectorizer.transform(X_test)\n",
    "\n",
    "# Print the first 10 features\n",
    "##print(tfidf_vectorizer.get_feature_names()[:10])\n",
    "\n",
    "# Print the first 5 vectors of the tfidf training data\n",
    "##print(tfidf_train.A[:5])"
   ]
  },
  {
   "cell_type": "markdown",
   "id": "rubber-recycling",
   "metadata": {},
   "source": [
    "# Inspecting the vectors"
   ]
  },
  {
   "cell_type": "code",
   "execution_count": 64,
   "id": "herbal-class",
   "metadata": {},
   "outputs": [],
   "source": [
    "# Create the CountVectorizer DataFrame: count_df\n",
    "##count_df = pd.DataFrame(count_train.A, columns=count_vectorizer.get_feature_names())\n",
    "\n",
    "# Create the TfidfVectorizer DataFrame: tfidf_df\n",
    "##tfidf_df = pd.DataFrame(tfidf_train.A, columns=tfidf_vectorizer.get_feature_names())\n",
    "\n",
    "# Print the head of count_df\n",
    "##print(count_df.head())\n",
    "\n",
    "# Print the head of tfidf_df\n",
    "##print(tfidf_df.head())\n",
    "\n",
    "# Calculate the difference in columns: difference\n",
    "##difference = set(count_df.columns) - set(tfidf_df.columns)\n",
    "##print(difference)\n",
    "\n",
    "# Check whether the DataFrames are equal\n",
    "##print(count_df.equals(tfidf_df))"
   ]
  },
  {
   "cell_type": "markdown",
   "id": "resistant-health",
   "metadata": {},
   "source": [
    "# Training and testing a classification model with scikit-learn\n"
   ]
  },
  {
   "cell_type": "code",
   "execution_count": 67,
   "id": "appreciated-complement",
   "metadata": {},
   "outputs": [],
   "source": [
    "# Naive Bayes with Sckit-learn\n",
    "from sklearn.naive_bayes import MultinomialNB\n",
    "from sklearn import metrics\n",
    "nb_classifier = MultinomialNB()\n",
    "## nb.classifier.fit(count_train, train_y)\n",
    "## predict = nb.classifier.predict(count_test)\n",
    "## metrics.accuracy_score(y_test, pred)\n",
    "## metrics.confusion_matrix(y_test, predict, labels[0,1])"
   ]
  },
  {
   "cell_type": "code",
   "execution_count": 68,
   "id": "exterior-polymer",
   "metadata": {},
   "outputs": [],
   "source": [
    "# Create the list of alphas: alphas\n",
    "##alphas = np.arange(0, 1, .1)\n",
    "\n",
    "# Define train_and_predict()\n",
    "##def train_and_predict(alpha):\n",
    "    # Instantiate the classifier: nb_classifier\n",
    "   ## nb_classifier = MultinomialNB(alpha=alpha)\n",
    "    # Fit to the training data\n",
    "   ## nb_classifier.fit(tfidf_train, y_train)\n",
    "    # Predict the labels: pred\n",
    "   ## pred = nb_classifier.predict(tfidf_test)\n",
    "    # Compute accuracy: score\n",
    "    ##score = metrics.accuracy_score(y_test, pred)\n",
    "    ##return score\n",
    "\n",
    "# Iterate over the alphas and print the corresponding score\n",
    "##for alpha in alphas:\n",
    "   ## print('Alpha: ', alpha)\n",
    "   ## print('Score: ', train_and_predict(alpha))\n",
    "   ## print()"
   ]
  },
  {
   "cell_type": "code",
   "execution_count": 69,
   "id": "satisfied-solid",
   "metadata": {},
   "outputs": [],
   "source": [
    "# Inspect your model\n",
    "# Get the class labels: class_labels\n",
    "##class_labels = nb_classifier.classes_\n",
    "\n",
    "# Extract the features: feature_names\n",
    "##feature_names = tfidf_vectorizer.get_feature_names()\n",
    "\n",
    "# Zip the feature names together with the coefficient array and sort by weights: feat_with_weights\n",
    "##feat_with_weights = sorted(zip(nb_classifier.coef_[0], feature_names))\n",
    "\n",
    "# Print the first class label and the top 20 feat_with_weights entries\n",
    "##print(class_labels[0], feat_with_weights[:20])\n",
    "\n",
    "# Print the second class label and the bottom 20 feat_with_weights entries\n",
    "##print(class_labels[1], feat_with_weights[-20:])"
   ]
  },
  {
   "cell_type": "code",
   "execution_count": null,
   "id": "miniature-zoning",
   "metadata": {},
   "outputs": [],
   "source": []
  }
 ],
 "metadata": {
  "kernelspec": {
   "display_name": "Python 3",
   "language": "python",
   "name": "python3"
  },
  "language_info": {
   "codemirror_mode": {
    "name": "ipython",
    "version": 3
   },
   "file_extension": ".py",
   "mimetype": "text/x-python",
   "name": "python",
   "nbconvert_exporter": "python",
   "pygments_lexer": "ipython3",
   "version": "3.8.5"
  }
 },
 "nbformat": 4,
 "nbformat_minor": 5
}

{
  "nbformat": 4,
  "nbformat_minor": 0,
  "metadata": {
    "colab": {
      "provenance": [],
      "authorship_tag": "ABX9TyOhYG7aUpNZhyb65stg1bc7",
      "include_colab_link": true
    },
    "kernelspec": {
      "name": "python3",
      "display_name": "Python 3"
    },
    "language_info": {
      "name": "python"
    }
  },
  "cells": [
    {
      "cell_type": "markdown",
      "metadata": {
        "id": "view-in-github",
        "colab_type": "text"
      },
      "source": [
        "<a href=\"https://colab.research.google.com/github/AmmarJamshed/NLP-Natural-Language-Processing-/blob/main/Natural__language_processing_ideas.ipynb\" target=\"_parent\"><img src=\"https://colab.research.google.com/assets/colab-badge.svg\" alt=\"Open In Colab\"/></a>"
      ]
    },
    {
      "cell_type": "code",
      "execution_count": 1,
      "metadata": {
        "colab": {
          "base_uri": "https://localhost:8080/"
        },
        "id": "Y3Jncx-GCXoF",
        "outputId": "7fe31935-7d1f-4c9e-fef9-abf8c1c16304"
      },
      "outputs": [
        {
          "output_type": "stream",
          "name": "stderr",
          "text": [
            "[nltk_data] Downloading package punkt to /root/nltk_data...\n",
            "[nltk_data]   Unzipping tokenizers/punkt.zip.\n"
          ]
        },
        {
          "output_type": "stream",
          "name": "stdout",
          "text": [
            "Keywords: ['Natural', 'Language', 'Processing', 'interesting', 'field']\n",
            "Sentiment: Neutral\n"
          ]
        },
        {
          "output_type": "stream",
          "name": "stderr",
          "text": [
            "[nltk_data] Downloading package stopwords to /root/nltk_data...\n",
            "[nltk_data]   Unzipping corpora/stopwords.zip.\n"
          ]
        }
      ],
      "source": [
        "import nltk\n",
        "from nltk.corpus import stopwords\n",
        "from nltk.tokenize import word_tokenize\n",
        "from nltk.probability import FreqDist\n",
        "from textblob import TextBlob\n",
        "\n",
        "# Download necessary NLTK data files\n",
        "nltk.download('punkt')\n",
        "nltk.download('stopwords')\n",
        "\n",
        "# Function to extract keywords\n",
        "def extract_keywords(sentence):\n",
        "    # Tokenize the sentence\n",
        "    words = word_tokenize(sentence)\n",
        "\n",
        "    # Remove stopwords\n",
        "    stop_words = set(stopwords.words('english'))\n",
        "    filtered_words = [word for word in words if word.lower() not in stop_words and word.isalpha()]\n",
        "\n",
        "    # Frequency distribution\n",
        "    freq_dist = FreqDist(filtered_words)\n",
        "\n",
        "    # Extract keywords (top 5 most frequent words)\n",
        "    keywords = [word for word, freq in freq_dist.most_common(5)]\n",
        "\n",
        "    return keywords\n",
        "\n",
        "# Function to analyze sentiment\n",
        "def analyze_sentiment(sentence):\n",
        "    # Create a TextBlob object\n",
        "    blob = TextBlob(sentence)\n",
        "\n",
        "    # Get sentiment polarity\n",
        "    sentiment = blob.sentiment.polarity\n",
        "\n",
        "    if sentiment > 0:\n",
        "        sentiment_label = 'Positive'\n",
        "    elif sentiment < 0:\n",
        "        sentiment_label = 'Negative'\n",
        "    else:\n",
        "        sentiment_label = 'Neutral'\n",
        "\n",
        "    return sentiment_label\n",
        "\n",
        "# Example sentence\n",
        "sentence = \"Natural Language Processing is an interesting field with numerous applications in artificial intelligence.\"\n"
      ]
    },
    {
      "cell_type": "code",
      "source": [
        "# Extract keywords\n",
        "keywords = extract_keywords(sentence)\n",
        "print(f\"Keywords: {keywords}\")\n",
        "\n",
        "# Analyze sentiment\n",
        "sentiment = analyze_sentiment(sentence)\n",
        "print(f\"Sentiment: {sentiment}\")\n"
      ],
      "metadata": {
        "colab": {
          "base_uri": "https://localhost:8080/"
        },
        "id": "Bd5QMOMECwWA",
        "outputId": "98a000a0-3155-4911-ee70-cbd1ed9a8e09"
      },
      "execution_count": 9,
      "outputs": [
        {
          "output_type": "stream",
          "name": "stdout",
          "text": [
            "Keywords: ['Natural', 'Language', 'Processing', 'interesting', 'field']\n",
            "Sentiment: Neutral\n"
          ]
        }
      ]
    },
    {
      "cell_type": "markdown",
      "source": [
        "# Program to analyse Review sentiments"
      ],
      "metadata": {
        "id": "FenIRjB4MyTE"
      }
    },
    {
      "cell_type": "code",
      "source": [
        "sent = input(\" Enter your text: \")\n",
        "sent_a = analyze_sentiment(sent)\n",
        "if sent_a == \"Positive\":\n",
        "  print(\"You are too happy with your learning\")\n",
        "elif sent_a == \"Negative\":\n",
        "  print(\" You are not happy with your learning\")\n",
        "else:\n",
        "  print(\"You just suck at understanding your self\")"
      ],
      "metadata": {
        "colab": {
          "base_uri": "https://localhost:8080/"
        },
        "id": "H5IQmUXQC4_U",
        "outputId": "62da94dc-dc97-45a3-de74-fe135e470a11"
      },
      "execution_count": 16,
      "outputs": [
        {
          "output_type": "stream",
          "name": "stdout",
          "text": [
            " Enter your text: i watched a movie which was not according to my interest. It was too slow and I get bored\n",
            " You are not happy with your learning\n"
          ]
        }
      ]
    },
    {
      "cell_type": "markdown",
      "source": [
        "# Collect it all in datayard"
      ],
      "metadata": {
        "id": "O6PnBA6oO9Eo"
      }
    },
    {
      "cell_type": "code",
      "source": [],
      "metadata": {
        "id": "AWkkh0ETQ2cH"
      },
      "execution_count": null,
      "outputs": []
    }
  ]
}